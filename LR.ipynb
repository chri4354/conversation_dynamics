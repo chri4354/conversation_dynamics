{
 "cells": [
  {
   "cell_type": "code",
   "execution_count": 100,
   "metadata": {
    "collapsed": true
   },
   "outputs": [],
   "source": [
    "# -*- coding: utf-8 -*-\n",
    "\"\"\"\n",
    "Created on Fri Jun 15 14:47:41 2018\n",
    "\n",
    "@author: niccolop\n",
    "\"\"\"\n",
    "import itertools\n",
    "import pandas as pd\n",
    "import numpy as np\n",
    "import matplotlib.pyplot as plt\n",
    "import nltk \n",
    "\n",
    "#%% load data \n",
    "\"\"\"\n",
    "This data was collected on 15th June 2018. They represent the first 10 websites \n",
    "suggested by Google from the query \"pro life arguments\" and \"pro choice \n",
    "arguments\", plus an 11th entry for the each argument as summarized by Wikipedia.\n",
    "Websites were filtered based on their content: e.g. some pro life arguments \n",
    "came after querying for pro choice. Or e.g. some websites had both arguments \n",
    "summarized.\"\"\"\n",
    "texts=[]\n",
    "for w in range(10):\n",
    "    texts.append(open('./data_files/abortion/against/web' + str(w+1) + '.txt', 'r').read())\n",
    "for w in range(10):\n",
    "    texts.append(open('./data_files/abortion/pro/web' + str(w+1) + '.txt', 'r').read())\n",
    "    \n",
    "#%% clean doc\n",
    "from nltk.corpus import stopwords\n",
    "from nltk.stem.wordnet import WordNetLemmatizer\n",
    "import string\n",
    "import re\n",
    "from pprint import pprint  # pretty-printer\n",
    "\n",
    "# remove urls\n",
    "texts = [re.sub(r\"http\\S+\", \"\", doc) for doc in texts]\n",
    "texts = [' '.join(item for item in doc.split() if not (item.startswith('www.')))  for doc in texts]\n",
    "# strip trailing symbols\n",
    "texts = [doc.replace('\\n','') for doc in texts]\n",
    "# remove double quotes\n",
    "texts = [doc.replace('—',' ').replace('–',' ') for doc in texts]\n",
    "# remove numbers\n",
    "texts = [re.sub(r'\\d+', '', doc) for doc in texts]\n",
    "    \n",
    "# remove punctuation and stopwords\n",
    "stop = set(stopwords.words('english'))\n",
    "exclude = set(string.punctuation) | set('“”\"’')\n",
    "lemma = WordNetLemmatizer()\n",
    "def clean(doc):\n",
    "    stop_free = \" \".join([i for i in doc.lower().split() if i not in stop])\n",
    "    punc_free = ''.join(ch for ch in stop_free if ch not in exclude)\n",
    "    normalized = \" \".join(lemma.lemmatize(word) for word in punc_free.split())\n",
    "    return normalized\n",
    "\n",
    "def clean_sent(doc):\n",
    "    stop_free = ([i for i in doc.lower().split('.')])\n",
    "    return stop_free\n",
    "\n",
    "# tokenize docs\n",
    "#texts_clean = [clean_sent(doc) for doc in texts]  \n",
    "\n",
    "texts_clean = [clean_sent(doc) for doc in texts]  \n",
    "\n",
    "# remove non english words\n",
    "words = set(nltk.corpus.words.words())\n",
    "for i,doc in enumerate(texts_clean):\n",
    "    texts_clean[i] = [w for w in doc if w in words or not w.isalpha()]\n",
    "\n",
    "# this is useless...\n",
    "texts_corpus = list(itertools.chain.from_iterable(texts_clean))\n",
    "\n",
    "#%% \n",
    "# Importing Gensim\n",
    "from gensim import corpora, models, similarities\n",
    "\n",
    "#Creating the term dictionary of our courpus, where every unique term \n",
    "#is assigned an index. \n",
    "dictionary_against = corpora.Dictionary(texts_clean[:10]) \n",
    "dictionary_pro = corpora.Dictionary(texts_clean[10:]) \n",
    "dictionary = corpora.Dictionary(texts_clean) \n",
    "# Converting list of documents (corpus) into Document Term Matrix using \n",
    "# dictionary prepared above.\n",
    "corpus_against = [dictionary.doc2bow(doc) for doc in texts_clean[:10]]\n",
    "corpus_pro = [dictionary.doc2bow(doc) for doc in texts_clean[10:]]"
   ]
  },
  {
   "cell_type": "code",
   "execution_count": 107,
   "metadata": {
    "collapsed": true
   },
   "outputs": [],
   "source": [
    "pro = [item for sublist in texts_clean[0:10] for item in sublist]\n",
    "against = [item for sublist in texts_clean[10:] for item in sublist]"
   ]
  },
  {
   "cell_type": "code",
   "execution_count": 319,
   "metadata": {},
   "outputs": [
    {
     "data": {
      "text/plain": [
       "' millions of american women have aborted a child, and the pain, loss, and emotional need to justify what was done, both on the part of the mother and on the part of her loved ones, is strong and deep'"
      ]
     },
     "execution_count": 319,
     "metadata": {},
     "output_type": "execute_result"
    }
   ],
   "source": [
    "# one sentence\n",
    "pro[1] # pro = pro life"
   ]
  },
  {
   "cell_type": "code",
   "execution_count": 77,
   "metadata": {},
   "outputs": [
    {
     "data": {
      "text/plain": [
       "'  peer-reviewed study comparing the mental health of women who received abortions to women denied abortions found that women who were denied abortions \"felt more regret and anger\" and \"less relief and happiness\" than women who had abortions'"
      ]
     },
     "execution_count": 77,
     "metadata": {},
     "output_type": "execute_result"
    }
   ],
   "source": [
    "# a sentence\n",
    "against[100]"
   ]
  },
  {
   "cell_type": "code",
   "execution_count": null,
   "metadata": {
    "collapsed": true
   },
   "outputs": [],
   "source": [
    "import keras\n",
    "# changes words to numbers\n",
    "tokenizer = keras.preprocessing.text.Tokenizer(num_words=2000, lower=True,split=\" \")\n",
    "tokenizer.fit_on_texts(pro + against)\n",
    "p_encoded = tokenizer.texts_to_sequences(pro)\n",
    "a_encoded = tokenizer.texts_to_sequences(against)"
   ]
  },
  {
   "cell_type": "code",
   "execution_count": 113,
   "metadata": {},
   "outputs": [
    {
     "name": "stdout",
     "output_type": "stream",
     "text": [
      "[1063, 2, 154, 27, 21, 341, 4, 46, 5, 1, 182, 5, 579, 267, 3, 1794, 49, 47, 378, 162, 17, 1, 225, 2, 1, 117, 5, 17, 1, 225, 2, 44, 742, 8, 743, 5, 744]\n"
     ]
    }
   ],
   "source": [
    "# how one sentence looks like now\n",
    "print(p_encoded[1])"
   ]
  },
  {
   "cell_type": "code",
   "execution_count": 170,
   "metadata": {
    "collapsed": true
   },
   "outputs": [],
   "source": [
    "# transform this into a highdimensional input\n",
    "from scipy.sparse import csr_matrix\n",
    "p_enc = np.array([csr_matrix((0*np.array(p)+1, (0*np.array(p), np.array(p))), shape=(1, 2000)).toarray() for p in p_encoded])\n",
    "a_enc = np.array([csr_matrix((0*np.array(p)+1, (0*np.array(p), np.array(p))), shape=(1, 2000)).toarray() for p in a_encoded])"
   ]
  },
  {
   "cell_type": "code",
   "execution_count": 206,
   "metadata": {},
   "outputs": [
    {
     "name": "stdout",
     "output_type": "stream",
     "text": [
      "[ 0.  4.  3. ...,  0.  0.  0.]\n",
      "(2000,)\n"
     ]
    }
   ],
   "source": [
    "p_enc = p_enc.squeeze()\n",
    "a_enc = a_enc.squeeze()\n",
    "\n",
    "print(p_enc[1])\n",
    "print(p_enc[1].shape)\n",
    "X = np.vstack((p_enc,a_enc))\n",
    "y = np.hstack((p_enc[:,0]*0,a_enc[:,0]*0 + 1)) # i.e. pro-life is 0, pro-choice 1"
   ]
  },
  {
   "cell_type": "markdown",
   "metadata": {},
   "source": [
    "## Logistic regression w/ regularization and recursive feature selection "
   ]
  },
  {
   "cell_type": "code",
   "execution_count": 250,
   "metadata": {
    "scrolled": false
   },
   "outputs": [
    {
     "name": "stdout",
     "output_type": "stream",
     "text": [
      "Optimal number of features : 10\n"
     ]
    },
    {
     "data": {
      "image/png": "[encoded data removed]",
      "text/plain": [
       "<matplotlib.figure.Figure at 0x12e395160>"
      ]
     },
     "metadata": {},
     "output_type": "display_data"
    },
    {
     "name": "stdout",
     "output_type": "stream",
     "text": [
      "[[1258   20]\n",
      " [ 519   58]]\n"
     ]
    }
   ],
   "source": [
    "## see here: http://scikit-learn.org/stable/modules/generated/sklearn.feature_selection.RFECV.html \n",
    "import matplotlib.pyplot as plt\n",
    "from sklearn import linear_model\n",
    "from sklearn.model_selection import StratifiedKFold\n",
    "from sklearn.feature_selection import RFECV\n",
    "from sklearn.datasets import make_classification\n",
    "\n",
    "# Create the RFE object and compute a cross-validated score.\n",
    "lr = linear_model.LogisticRegression(C = .1) # C is the (inverse of) regularizer\n",
    "\n",
    "# The \"accuracy\" scoring is proportional to the number of correct\n",
    "# classifications\n",
    "stepsize = 2 # num of features eliminated at each step\n",
    "rfecv = RFECV(estimator=lr, step=stepsize, cv=StratifiedKFold(2),\n",
    "              scoring='accuracy')\n",
    "rfecv.fit(X, y)\n",
    "\n",
    "print(\"Optimal number of features : %d\" % (rfecv.n_features_))\n",
    "\n",
    "# Plot number of features VS. cross-validation scores\n",
    "plt.figure()\n",
    "plt.xlabel(\"Number of features selected\")\n",
    "plt.ylabel(\"Cross validation score (nb of correct classifications)\")\n",
    "plt.plot(np.arange(1, len(rfecv.grid_scores_) + 1)*stepsize, rfecv.grid_scores_)\n",
    "plt.show()\n",
    "\n",
    "from sklearn.metrics import confusion_matrix\n",
    "y_true = y\n",
    "y_pred = rfecv.predict(X)\n",
    "print(confusion_matrix(y_true, y_pred))"
   ]
  },
  {
   "cell_type": "code",
   "execution_count": 295,
   "metadata": {},
   "outputs": [
    {
     "name": "stdout",
     "output_type": "stream",
     "text": [
      "['pro', '”', 'human', 'right', 'i', 'abortions', 'child', 'choice', 'religious', 'common']\n",
      "['-0.70 ', '-0.81 ', '-0.76 ', '0.70 ', '0.64 ', '0.74 ', '0.79 ', '0.77 ', '0.56 ', '0.63 ']\n"
     ]
    }
   ],
   "source": [
    "# print the selected features\n",
    "reverse_word_map = dict(map(reversed, tokenizer.word_index.items()))\n",
    "print([reverse_word_map[k] for k in np.nonzero(rfecv.support_)[0]])\n",
    "print([\"{0:.2f} \".format(k) for k in rfecv.get_params()['estimator'].fit(X[:,rfecv.support_],y).coef_[0]])"
   ]
  },
  {
   "cell_type": "code",
   "execution_count": 313,
   "metadata": {},
   "outputs": [
    {
     "name": "stdout",
     "output_type": "stream",
     "text": [
      "           word    weight\n",
      "11    developed -0.282324\n",
      "18         self -0.201909\n",
      "4          long -0.196064\n",
      "6   whittington -0.166589\n",
      "7      property -0.084171\n",
      "8   evangelical -0.077722\n",
      "0          sort -0.050774\n",
      "5          used -0.048841\n",
      "3     christian -0.035848\n",
      "13          the -0.008369\n",
      "16       others  0.020083\n",
      "9          here  0.043108\n",
      "10     detected  0.051624\n",
      "19        where  0.121685\n",
      "15        don't  0.140828\n",
      "12    conceived  0.142932\n",
      "2         might  0.146781\n",
      "14         will  0.244797\n",
      "17       become  0.251528\n",
      "1        decide  0.411959\n"
     ]
    }
   ],
   "source": [
    "# print the selected features\n",
    "reverse_word_map = dict(map(reversed, tokenizer.word_index.items()))\n",
    "import pandas as pd\n",
    "df = pd.DataFrame()\n",
    "df[\"word\"] = [reverse_word_map[k] for k in rfecv.ranking_[:20]]\n",
    "df[\"weight\"] = [k for k in rfecv.get_params()['estimator'].fit(X[:,rfecv.ranking_[:20]],y).coef_[0]]\n",
    "print(df.sort_values('weight'))\n",
    "# high positive weight --> pro-choice\n",
    "# high negative weight --> pro-life"
   ]
  },
  {
   "cell_type": "markdown",
   "metadata": {
    "heading_collapsed": true
   },
   "source": [
    "## k-NN "
   ]
  },
  {
   "cell_type": "code",
   "execution_count": null,
   "metadata": {
    "collapsed": true,
    "hidden": true
   },
   "outputs": [],
   "source": [
    "n_iter_search = 20\n",
    "random_search = RandomizedSearchCV(clf, param_distributions=param_dist,\n",
    "                                   n_iter=n_iter_search)"
   ]
  }
 ],
 "metadata": {
  "kernelspec": {
   "display_name": "Python 3",
   "language": "python",
   "name": "python3"
  },
  "language_info": {
   "codemirror_mode": {
    "name": "ipython",
    "version": 3
   },
   "file_extension": ".py",
   "mimetype": "text/x-python",
   "name": "python",
   "nbconvert_exporter": "python",
   "pygments_lexer": "ipython3",
   "version": "3.6.3"
  },
  "toc": {
   "nav_menu": {},
   "number_sections": true,
   "sideBar": true,
   "skip_h1_title": false,
   "title_cell": "Table of Contents",
   "title_sidebar": "Contents",
   "toc_cell": false,
   "toc_position": {},
   "toc_section_display": true,
   "toc_window_display": false
  },
  "varInspector": {
   "cols": {
    "lenName": 16,
    "lenType": 16,
    "lenVar": 40
   },
   "kernels_config": {
    "python": {
     "delete_cmd_postfix": "",
     "delete_cmd_prefix": "del ",
     "library": "var_list.py",
     "varRefreshCmd": "print(var_dic_list())"
    },
    "r": {
     "delete_cmd_postfix": ") ",
     "delete_cmd_prefix": "rm(",
     "library": "var_list.r",
     "varRefreshCmd": "cat(var_dic_list()) "
    }
   },
   "types_to_exclude": [
    "module",
    "function",
    "builtin_function_or_method",
    "instance",
    "_Feature"
   ],
   "window_display": false
  }
 },
 "nbformat": 4,
 "nbformat_minor": 2
}
