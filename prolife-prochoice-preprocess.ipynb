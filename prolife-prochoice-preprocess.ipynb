{
 "cells": [
  {
   "cell_type": "code",
   "execution_count": 25,
   "metadata": {
    "collapsed": true
   },
   "outputs": [],
   "source": [
    "# -*- coding: utf-8 -*-\n",
    "\"\"\"\n",
    "Created on Fri Jun 15 14:47:41 2018\n",
    "\n",
    "@author: niccolop\n",
    "\"\"\"\n",
    "import itertools\n",
    "import pandas as pd\n",
    "import numpy as np\n",
    "import matplotlib.pyplot as plt\n",
    "import nltk \n"
   ]
  },
  {
   "cell_type": "code",
   "execution_count": 33,
   "metadata": {
    "collapsed": true
   },
   "outputs": [],
   "source": [
    "dfprolife = pd.read_pickle('data_files/abortion/results_prolife.pkl')\n",
    "dfprochoice = pd.read_pickle('data_files/abortion/results_prochoice.pkl')"
   ]
  },
  {
   "cell_type": "code",
   "execution_count": 34,
   "metadata": {},
   "outputs": [
    {
     "name": "stdout",
     "output_type": "stream",
     "text": [
      "(11524, 6)\n",
      "Index(['iscom', 'title', 'user', 'level', 'points', 'body'], dtype='object')\n"
     ]
    }
   ],
   "source": [
    "print(dfprolife.shape)\n",
    "print(dfprolife.columns)"
   ]
  },
  {
   "cell_type": "code",
   "execution_count": 35,
   "metadata": {},
   "outputs": [
    {
     "name": "stdout",
     "output_type": "stream",
     "text": [
      "32035\n",
      "9335\n"
     ]
    }
   ],
   "source": [
    "import pickle\n",
    "with open('bodies.pkl', 'wb') as f:\n",
    "    pickle.dump([dfprolife['body'].values,dfprochoice['body'].values], f)\n",
    "print(np.max([len(x) for x in dfprochoice['body'].values]))\n",
    "print(np.max([len(x) for x in dfprolife['body'].values]))"
   ]
  },
  {
   "cell_type": "code",
   "execution_count": 31,
   "metadata": {
    "collapsed": true
   },
   "outputs": [
    {
     "name": "stdout",
     "output_type": "stream",
     "text": [
      "So like I said, I myself am Pro-Life, but I love to debate, here it is :).Abortion: America’s Biggest KillerAbortion is a very contentious issue in the American political sphere. There is a wide difference of opinions on the issue, many say it is an issue of privacy, life, or rights. Opinions run wild across the political spectrum, often creating vitriol. Well, this piece most likely won’t help, but it is the truth and should be said, no matter how gruesome. And that is, abortion should be outlawed by the Federal Government because it is the taking of life, it is immoral, and it is illegal under the U.S. Constitution. These are some hefty claims, but they are more obvious than they may seem.I want to first start by establishing some scientific fact. The most important fact is, a human zygote is composed of unique HUMAN cells and unique DNA independent of the mother. This very combination makes it genetically distinct from all other humans. (Mayo Clinic) The zygote is a completely different human organism from the mother, and those who would say that it is no different from her appendix in that it is a part of her body that doesn’t contribute have a flawed scientific backing. We understand that all 46 chromosomes are present in the zygote and that they are unique to the zygote. Science is progressing extremely fast and gender can now be determined from a simple blood test of a pregnant woman who is 12 weeks along. (Doctor Testimony) Not only gender, but researchers have found every single trait that chromosomes design for a human in the earliest stages of pregnancies. That would have astounded scientists from the turn of the 21st century and as science progresses more evidence for choosing life abounds. But even with all this new and convincing evidence, we can fall back on some old tried and true principles. The four basic principles of life are organization, growth, reaction to stimuli, and reproduction. The human embryo can meet all of these standards with ease. I would also beg the question, can we use the reverse standard of death, to form a standard of life? Examining further, to be clinically dead, your heart must stop, then would the formation of a heart perhaps mark life? Well, if so, the heart begins to beat on the 22nd DAY of pregnancy, rendering large amounts of abortions murder by that standard ALONE, our previous standards withstanding. But to form a more rigorous definition of death, physicians will often use the stoppage of all brain activity as medically dead. Again, this standard alone would render Embryos life after the 40th day, when brain waves start. (Mayo Clinic)  But with those basic principles determined, let’s look at the testimony of trained OBGYNs and Biologists. The first few individuals I’d like to discuss are Professors at the Science departments of well-respected universities. These people stood in front of the Senate and testified their views on life. Micheline Matthews-Roth, who teaches at Harvard, says this: I oppose the use of embryonic stem cells because to obtain those cells it is necessary to kill a growing human being. We know from embryology that a new life begins with the formation of the zygote, the cell formed by the union of egg and sperm in fertilization -- this is scientific fact, not religious doctrine. What makes us human is not our looks or mental attributes, but the human chromosomes and genes which we have in our cells from the zygote stage throughout our life. We should not condone killing a member of our species, even for a good reason. (NPR) That pretty much confirms the facts stated above. However, there is more, Dr. Alfred Bongiovanni said this : I have learned from my earliest medical education that human life begins at the time of conception.... I submit that human life is present throughout this entire sequence from conception to adulthood and that any interruption at any point throughout this time constitutes a termination of human life.... I am no more prepared to say that these early stages [of development in the womb] represent an incomplete human being than I would be to say that the child prior to the dramatic effects of puberty...is not a human being. This is human life at every stage. (NAAPC) Jerome Lejeune, often considered the Father of Modern Genetics, said To accept the fact that, after fertilization has taken place, a new human has come into being is no longer a matter of taste or opinion. The human nature of the human being from conception to old age is not a metaphysical conception. It is plain experimental evidence. (NAAPC) I could go on with that exact same philosophy repeated out of the mouths of at least 5 more world renowned scientists who have made such statements, but I think the point is perceived.But, there is one final medical reason for the abolition of abortion. To this I refer to Dr. Bernard Nathanson, the co-founder of NARAL, the largest pro-abort political action group, and Abby Johnson the former Director of Planned Parenthood. Scientific fact says, fetuses can feel pain and react to their surroundings. Neither of the Former Pro-Abortionists believed this. Pro-Choicers will often say that reactions from babies in the womb are not available until 26 week, this has been disproven as above, but it wasn’t until the Now Pro-Life abortion Doctors experienced their first ultrasound abortion.  Early in the 70s, ultrasounds were just being developed, as the first one rolled into Dr. Nathanson’s office, he was thrilled to witness his work. As his colleague began, all that changed. He watched as the baby was pulled apart, he went on to write his book “Aborting America” in which he said, “I am responsible for the death of 60,000” and called abortions “humanity’s greatest holocaust”. He made the film “The Silent Scream” to highlight the process of abortions and what really happens during the process of ending a pregnancy. Little did he know that 40 years later a young woman would experience much the same. As Director Johnson was pulled in to assist on an abortion, she noticed an ultrasound, she didn’t give it much mind, she had never seen an abortion performed, but as the abortion started she saw a fetus pop onto it, she the 13 week old bouncing and swimming away from the forceps that was chasing it like a mad dog locked onto its prey, the fetus fought but lost, as the tool sucked the child apart the child limb from limb. Director Johnson resigned that day and never went back. (Abby Johnson) Those two stories are just 2 doctors among at least 2,500 members of the Pro-Life OBGYNs, a group of doctors who reject abortion and some of them, former abortionists. (AAPLOG) In fact, Dr. Nathanson has repeatedly debunked the false statistic that illegal abortions mean dangerous and deadly ones. Well first, even in a legal abortion, you are losing the life of a child, and consider this on Maternal Death. Firstly, let us consider, how do we know the number before abortion was legalized, we don’t. So any number is purely speculative. Secondly, Dr. Nathanson even said: How many deaths were we talking about when abortion was illegal? In NARAL we generally emphasized the drama of the individual case, not the mass statistics, but when we spoke of the latter it was always \"5,000-10,000 deaths a year. I confess that I knew the figures were totally false, and I suppose that others did too if they stopped to think of it. But in the 'morality' of our revolution it was a useful figure, widely accepted, so why go out of our way to correct it with honest statistics? The overriding concern was to get the laws eliminated, and anything within reason that had to be done was permissible.That is pretty damning, but it get’s worse. In 1960 Mary Calderone, a Planned Parenthood board member speculated that 9 out of 10 abortions were performed by licensed doctors and said: they are physicians, trained as such...Abortion, whether therapeutic or illegal, is in the main no longer dangerous, because it is being done well by physicians. In fact, many women have died since abortion’s legalization. But we wouldn’t know because the states with the most abortions (California, New York, et. al.) often don’t need to report maternal death rates. And even in states that do, doctors can record the Cause of Death as, a “hemorrhage” never reported that it was abortion-induced. Now, I concede that here in the states, the data is circumstantial and requires critical thinking, so let’s look abroad for cold hard facts. In Ireland and Malta, the UN reported maternal deaths lower than in the US, and they are extremely Catholic and Anti-Abort nations. And in Poland for another example, the Polish Health ministry reported that maternal death rates dropped when abortions were banned. (FRC) And let’s take a minute to talk about Planned Parenthood. Planned Parenthood says that 3% of what it does is abortion, but there is a reason why Slate, of all websites, calls it “The Most Meaningless Abortion Statistic ever” and why the Washington Post called it “Very Misleading”. But let’s look at the numbers. According to their annual report, Planned Parenthood commits an average of 325,000 abortions a year. That averages to 1 abortion every 97 seconds. But let’s talk about how much of what they do is abortion, the original query, well, the 325,000 abortions a year divided by last year’s total patient count of 2.5 Million Patients. That mean ONE out of every EIGHT women who walk into a Planned Parenthood, not one in thirty-three, ONE in EIGHT. In fact, they commit 160 abortions for every adoption referral. Let’s talk about what else they do now, they do .97% of the nation's Cervical Cancer screenings, 1.8% of the nation’s Breast Exams, and of course, THIRTY-ONE PERCENT of the nation’s abortions. That’s right, 31%. Let’s not forget they do not offer prenatal care. But that is a PR problem, so how, do they get that 3% figure? They measure everything in “services”. What is a service? An abortion is, but so is a simple pregnancy test. An Abortion which can cost up to $1,500 is weighed the same as a $10 pregnancy test. So if a girl walks in for an abortion, she will get a pregnancy test, the abortion she came in for, an STI test, and a packet of contraceptives. During the visit she got 4 services, she scheduled an abortion, but according to Planned Parenthood, what she did was only 25% abortion. In fact, using this method if all Planned Parenthood patients received an abortion they could claim only 25% of what they do is abortion. Planned Parenthood gives 9.4 million “services”, divide 325,000 by that, you get 3%. And let’s not forget that abortion has a 31% stranglehold on the abortion market, bigger than Samsung on TVs and Chrysler on Cars. So let’s call it for what it is, Planned Parenthood is big business, a big abortion business. One that uses the foulest means of abortion to make a buck. What are those methods, we haven’t even gotten into the full nastiness of Planned Parenthood? We have had doctors from Planned Parenthood talk about using “less crunchy” techniques to harvest the parts of the child. Or perhaps when a different doctor explains the ease with which baby eyeballs and intestines can be extracted. And of course when doctors haggle over the prices of the parts standing in front of a tray filled up with said parts. But it gets much worse when we talk about how the children are harvested. During the first trimester, doctors plunge a tube with an edged tip into the cervix they use the suction part of the tool to rip the child limb from limb while it is still alive and collects it in a vat. This is the type of butchery Director Johnson experienced, it is called Suction Aspiration, but as time goes on, the methods become much more Orwellian. Try Dilation and Curettage where a curette is used to chop the baby up and scrape it right up. How about Dilation and Evacuation, where doctors use forceps to crush the baby, including the now developed Brain and Spine, but this usually results in unusable parts. So what do they use to save the parts, they use Intact Dilation and Extraction, otherwise known as Partial-Birth Abortion. Doctors will use an ultrasound to find a baby’s legs, use forceps to pull them into the birth canal, they deliver the entire baby, except the head, at which point they stab the child in the neck severing the now developed cerebral cortex and ending the child’s life, even while most of it has been delivered into the world. Then, of course, you could side with Former President Barack Obama who supported Post-Birth abortion, that is right, he said that if your doctor somehow botched an abortion before birth, and the child was delivered alive, that killing it post-birth was a protected right. You ask me, that is infanticide. So, I ask, when a fetus can move away and detect the pain and the suffering, how is that a safe medical procedure? When from the moment of conception, you are dealing with new life, how is that a “moral” operation? And that when the vast majority of this operation is performed where a forceps is used to pull the fetus apart, or where a vacuum is used to suck it into a collection vat, sometimes heart still beating, how is that ok by society? And when the biggest medical argument against illegalization is a House of Cards promulgated by decade old lies. How is this an act to be defended? If you ask 2,500 of our nation’s finest caretakers, it’s not, it’s murder. And from the date of this article’s publishment, the cause of death of just under 60 million Americans. Compare that to every American killed by war, 1.2 million.Now that we have covered some scientific reasons against abortions and we have established an unborn child as life, we can delve into the legal world. But to compose any good legal argument for or against abortion, we must look at the crux of the issue in law, Roe v. Wade. The first thing we need look at is what Roe decided. Most Americans would think that Roe created a limited right to abortion. In fact, the court did just the opposite, they said, We need not resolve the difficult question of when life begins. When those trained in the respective disciplines of medicine, philosophy, and theology are unable to arrive at any consensus, the judiciary, at this point in the development of man's knowledge, is not in a position to speculate as to the answer. (Roe v Wade) Ok, fair enough, that decision is from 1973, scientific evidence for Life wasn’t nearly as strong, however, instead of cautiously allowing science to deliver an answer, or revise the decision once evidence came out, they created an unlimited right to be abortion, albeit one that can be stymied by States at the arbitrarily created “point of viability”.  However, we can also find a sentence in the ruling in Roe’s companion case, Doe that says this : We agree with the District Court, 319 F.Supp. at 1058, that the medical judgment may be exercised in the light of all factors --physical, emotional, psychological, familial, and the woman's age -- relevant to the well-being of the patient. (Doe v Bolton) That means that a doctor can override a restriction if he deems a woman in “emotional” duress because of carrying a pregnancy to term. In fact, we can even look at the cases of abortions being defended by the Prosecutors, the woman that sued Texas and Georgia, were in fine health and simply did not want to carry the child to term. (FRC) Now you may ask, “Where did this ruling come from, surely the Court must have had a Basis?” Well, that basis came from a “right” not even written in the Constitution. Both the Doe and Roe ruling reference an inherent Right to “Privacy”. The word privacy is never even used in the Constitution. (Constitution) This “right” to privacy that was ruled upon, made abortion completely an issue of Women’s Health. Well, we have established life from conception and when the court overlooked it and wrote that they need not determine life to rule on it in the earliest stages, they effectively made complete abortion legal, on a basis of a “right” not found in the Constitution. When the court authors an opinion, that sends the signal for ALL law enforcement to uphold EVERY single letter of it, sometimes that can have ill wished consequences. In fact, even Liberal Justice Ruth Bader Ginsburg sees it as an issue of equal protection, and not “privacy”. She even said in an interview with a Kansas newspaper “It is not the way courts generally work”.  And even off the bench, Pro-Choicers are singing a similar tune with John H. Ely of Yale saying: “because it is not constitutional law and gives almost no sense of an obligation to try to be.”  And best of all, the Clerk of Justice Blackmun, the authoring Justice, called it: “one of the most intellectually suspect constitutional decisions of the modern era.” But beyond just mere opinion, there are verifiable sources in U.S. Law. For example, When we look at the 5th and 14th Amendments, they contain what is called the Due Process Clause. In the 5th it reads: nor be deprived of life, liberty, or property, without due process of law. And when we take a look at the 14th, it sounds rather familiar: nor shall any State deprive any person of life, liberty, or property, without due process of law; nor deny to any person within its jurisdiction the equal protection of the laws. To me, having established life at conception, that seems rather a clear cut, but there is, even more, some would have the fetus exempted from citizenship, but as a fetus is a person, that comes into conflict with both Title 8 of U.S. Code and Article II of the Constitution. Both establish that birthright means citizenship. We can find that from the apparentness of Life at Conception, there is citizenship. Even the American people as a whole seem to be catching on, 61% of Americans believe that once a fetal heartbeat begins, abortion should be illegal, as we have discussed this occurs much earlier than most would think. In fact, Most Americans, 53%, would not overturn Roe, however, when explained that Roe creates an unlimited right to abortion, that contrast these numbers, only 6% of Americans agree with this unlimited right, 86% agreeing with banning 3rd trimester bans, 72% with 2nd, and a further 61% with heartbeat bans as said above. (Gallup/Ipsos)  However, these numbers do drop in the cases of rape or incest. If we delve further however into this issue, we see in a survey conducted by the Pro-Choice Guttmacher Institute, we see some interesting polls on why abortions happen. We see that 92% of abortions are purely elected. Less than 1% are Incest and rape driven, combined. And even then, I ask, why should a child get the Death Penalty for the crimes of the father. Why should a child conceived in rape, be executed, when even in the 2008 case of Kennedy v. Louisiana, the Supreme Court ruled that a 400 lbs. man that raped his 8-year-old stepdaughter could not be put to death and overruled his sentence given to him by the Louisiana jury. (Kennedy v Louisiana) If even HE cannot be legally executed, a child rapist, why should any child conceive of rape be murdered for their father’s heinous crime, when he himself, cannot be? This among the myriad Constitutional provision and standing legal precedent is why the illegality of abortion is truly the most unenforced standing law in the nation, at a dire cost.The final field in which we examine abortion’s many nuances is its morality. This topic trickier than either Medicine or Law is often divided into two camps, Morality from Religion, and Morality based on secular foundations. There is an argument against abortion to be derived from both. For the religious viewpoint, we can look no further than the Bible itself. But before I delve directly into the verses that I find most damning, there is an elephant in the room. The Bible NEVER specifically references abortion. For one reason only, in the time before Jesus until afterward when Paul composed the final books, abortion was so unthinkable that it was an unwritten law. Infertility was seen as a curse, and pregnancy a gift, so the Prophets didn’t need to write anything about its evil. That view about the sacredness of the family had vanished, but the Bible, and its verses on the beauty of God and his gifts haven’t. The first few verses are about King David and his relationship with the divine. Starting with Psalms 139: 13-16 which reads: For thou hast possessed my reins: thou hast covered me in my mother's womb. I will praise thee; for I am fearfully and wonderfully made: marvelous are thy works; and that my soul knoweth right well.My substance was not hidden from thee, when I was made in secret, and curiously wrought in the lowest parts of the earth.Thine eyes did see my substance, yet being unperfect; and in thy book all my members were written, which in continuance were fashioned, when as yet there was none of them. This reaffirms Genesis 2:7 which says: And the Lord God formed man of the dust of the ground, and breathed into his nostrils the breath of life, and man became a living soul. Both of these powerful passages make a point to say how much care that God puts into forming babies in the womb. But there is much more, in Psalms 51:5 we see the truth, that unborn children are responsible for original sin from conception when it says: Behold, I was shapen in iniquity; and in sin did my mother conceive me. And in Genesis on 3 separate occasions is the likeness of God confirmed, in 1:26-27, 5:1, and 9:6. And again, we can see that, though God’s perfect image was affected in the fall of man from Eden, it was not erased. This can be read in 1 Cor. 11:7 and James 3:9. We can also see in Romans 5:12 and Hebrews 7:10 that the unborn child receives original sin and is morally accountable at conception, as all unbaptized humans are. Romans reads: Wherefore, as by one man sin entered into the world, and death by sin; and so death passed upon all men, for that all have sinned. And in Hebrews, we find: For he was yet in the loins of his father, when Melchisedec met him. And even beyond this level of biblical morals that God wishes to follow, we must look no further than Exodus 21:22-25 to find the sanctity of the pregnancy in Jewish culture. In Exodus it says this of the death of unborn: If men who are fighting hit a pregnant woman and she gives birth prematurely but there is no serious injury, the offender must be fined whatever the woman’s husband demands and the court allows. But if there is serious injury, you are to take life for life, eye for eye, tooth for tooth, hand for hand, foot for foot, burn for burn, wound for wound, bruise for bruise.To me that is rather clear that the death of an unborn is taken just as seriously of that as a born child. At this point, I think that everyone that treats the Bible with great reverence as a book of worldly wisdom has come to understand the immorality that abortion embodies. But even for Secular folks, their philosophies as decent people are sure to be challenged by the non-religious issues posed. The first few standards are imposed by Roe. Beginning with what was discussed earlier, Roe draws some lines, one of the most infamous being that of the viability point. Ruling that before a child is viable to survive outside the womb, abortions ought to be legal, however, the first bit of our time together was disputing when a child became life, and that was conception. Life is Life, even if it needs to be nurtured. Would you consider a deer that was hit by a car and needs to be nurtured and have medical attention to not be alive, even if you left it alone it would die? Would you feel this way of your grandmother of brother that needs emergency care? This is the standard Roe set, and it’s unacceptable. Another hallmark of Roe is their trepidation separation of separating humanity from personhood. The ruling confirmed, that even if a human, the legal definition of “persons”, may not apply. This opened up a way for some radical definitions of personhood to be proposed. Ones that proposed, not biological definitions of life or personhood, but cultural ones. Francis Crick said with Nature magazine a child was considered to be legally born when two days old, it could be examined to see whether it was an ‘acceptable member of human society. And it was famed Anthropologist Ashley Montagu that stated A newborn baby is not truly human until he or she is molded by cultural influences later. (Probe) And Professor Joseph Fletcher perhaps holds the most blood-curdling view, writing in his book, Humans without some minimum of intelligence or mental capacity are not persons, no matter how many of these organs are active, no matter how spontaneous their living processes are. (Probe) He would go on to use 40 IQ as a benchmark for personhood.  These are not just arguments supporting abortion’s supposed morality, but infanticide, and the last one, the murder of the most vulnerable in society. Now that we have covered some of the current standards imposed by the courts, and the opinions on them, we can look at the true value of the unborn. Now, some people would say that fetuses have no rights. This included the Democratic nominee for President this year, Hillary Clinton. (Richardson) However, even IF an unborn child is not a person, and we can disregard all juxtaposing information on that and the life of the child, I would ask this. Even if the child is not a person, why is it afforded no rights? There are many animal rights groups, surely they don’t think that the animals are people, but they do believe they have rights. I myself agree, they are living beings and should be treated respectfully. However, many of the members of these animal rights groups, such as PETA, take an interesting stance on abortion. MANY members of animal rights groups are rather militant liberals, yet, when they say they animals should be given rights perpendicular to human rights, they omit the unborn. They never seem to say, “Hey at least in some stage this baby becomes a baby”, even if they don’t recognize life at conception as modern science had granted us. This hypocrisy really is both repulsive and mind-boggling. But it doesn’t get any better from there. A fetus has value, I think we can all agree, an infinite value in fact, of endless possibilities of a new person in the world. When a mother plans on carrying a baby to term, that baby is seen as having almost infinite value, yet, when pulling in for the insidious practice of abortion, that value goes away. Why doesn't the mother get to decide the value of her child? And say, in a tragedy, a pregnant woman, is murdered, the assailant is charged with murder of course, but how many times? Two counts, or just one? Does the death of the fetus mean another murder to be prosecuted for? Hard to say, but if you follow liberal abortion theory the answer is clearly no, that life is not found in the womb. Now that we have discussed some philosophy and principle behind the issue, I want to paint you a picture. Imagine a woman. Her husband has just left her, and she is to move in with her parents. However, she has a problem, her parents don’t know what she does. The absent father impregnated her and she is faced with a choice. Does she get an abortion or not, being a devout woman she goes to the nearby church and is convinced to choose life. That woman’s name is Ann Dunham, she is no longer with us, but her child is. You see, thirteen years after Ann had passed, her son was elected the first Black President in American history. The man that supported radical abortion, was the very one who grabbed life from its deadly jaws. The woman who wasn’t quite ready for a child gave birth to a leader of the free world (By The People), so I would implore all mothers, before choosing an abortion, think about the unlimited value your child could possess. So after all that heavy moralism, I want to end on a happy note. Just something in our society that already recognizes life in the womb. If you believe that a baby is part of a mother’s body, do walk up to her and say, How’s your Body? No, I would hope not at least, you say How’s the Baby? You recognize that the baby is a separate being with its own welfare. These values are recognized across the spectrum of humanity, from the secular to the non-secular. They aren’t values that can be easily cast aside nor should they, they just need be exposed to shine their proud light, much like the children they protect.So, now that I have presented the facts, the evidence, and the morals, it is your turn. I would ask you to understand the medical evidence, the law, and the beliefs of the philosophies of the world, ranging in value. And I would ask you to choose a side, choose what you can do to help society, and after all that I have said about the above, I would plead you, choose life.Works CitedAnderson, Kerby. \"Arguments Against Abortion.\" Probe Ministries. Probe Ministries, 08 Feb. 2017. Web. 10 Mar. 2017. https://www.probe.org/arguments-against-abortion/.Schwarzwalder, Rob, M.A. \"Family Research Council.\" Family Research Council. Family Research Council, n.d. Web. 13 Mar. 2017. http://frc.org/arguments.Gallup, Inc. \"Abortion.\" Gallup.com. N.p., 26 May 2016. Web. 13 Mar. 2017. http://www.gallup.com/poll/1576/abortion.aspxSchool, Cornell Law. \"8 U.S. Code § 1401 - Nationals and Citizens of United States at Birth.\"LII / Legal Information Institute. Cornell Law School, n.d. Web. 13 Mar. 2017. https://www.law.cornell.edu/uscode/text/8/1401Authors, Various Bible. \"BibleGateway.\" BibleGateway.com: Search for a Bible Passage in 63 Languages and 194 Versions. Bible Gateway, n.d. Web. 16 Mar. 2017. https://www.biblegateway.com/passage/.Prager, Dennis. \"The Most Important Question About Abortion.\" YouTube. YouTube, 17 Aug. 2015. Web. 16 Mar. 2017. https://www.youtube.com/watch?v=AMwkQVpy98A.Mayo Clinic Staff. \"Fetal Development: The 1st Trimester.\" Mayo Clinic. The Mayo Clinic, 10 July 2014. Web. 21 Mar. 2017. http://www.mayoclinic.org/healthy-lifestyle/pregnancy-week-by-week/in-depth/prenatal-care/art-20045302.Fr. Pavone, Frank. \"Abortion -This Is a Suction Abortion.\" YouTube. YouTube, 29 Mar. 2008. Web. 28 Mar. 2017. https://www.youtube.com/watch?v=QBOAPleF1t0.\"Roe v. Wade 410 U.S. 113 (1973).\" Justia Law. Justia Law, n.d. Web. 28 Mar. 2017. https://supreme.justia.com/cases/federal/us/410/113/case.html.\"Doe v. Bolton 410 U.S. 179 (1973).\" Justia Law. Justia, n.d. Web. 29 Mar. 2017. https://supreme.justia.com/cases/federal/us/410/179/case.html.Baltzell, George W. \"Constitution of the United States - We the People.\" Constitution for the United States - We the People. N.p., n.d. Web. 29 Mar. 2017. http://constitutionus.com/.By The People: Election of Barack Obama. Dir. Amy Rice and Alicia Sams. Prod. Edward Norton. HBO, 2009. Netflix. Matthew-Roth, Micheline. \"NPR.\" Stem Cell Research: An NPR Special Report. NPR. N.d. Radio. Transcript.Alcorn, Randy. \"Why Life Begins at Conception.\" Why Life Begins at Conception | NAAPC. NAAPC, n.d. Web. 06 Apr. 2017. http://naapc.org/why-life-begins-at-conception/.Johnson, Abby. \"Home.\" Abby Johnson. Abby Johnson, n.d. Web. 06 Apr. 2017. http://www.abbyjohnson.org/.\"Home.\" Prolife OBGYNS - AAPLOG - American Association of Pro-life Obstetricians & Gynecologists. AAPLOG, n.d. Web. 06 Apr. 2017. http://aaplog.org/.\"Kennedy v. Louisiana 554 U.S. 407 (2008).\" Justia Law. Justia, 25 June 2008. Web. 06 Apr. 2017. https://supreme.justia.com/cases/federal/us/554/407/opinion.html.Richardson, Bradford. \"Hillary Clinton’s ‘unborn Person’ Comments Anger Both Pro-choice, Pro-life Sides.\" The Washington Times. The Washington Times, 03 Apr. 2016. Web. 06 Apr. 2017. http://www.washingtontimes.com/news/2016/apr/3/hillary-clinton-unborn-person-has-no-constitutiona/.Live Action, \"Debunking Planned Parenthood's \"3%\" Abortion Myth \" YouTube. YouTube, 14 Sep. 2016. Web. 26 Aug. 2017.https://www.youtube.com/watch?v=qtgqxvaV-8U.\n"
     ]
    }
   ],
   "source": [
    "print(dfprochoice['body'].values[np.argmax([len(x) for x in dfprochoice['body'].values])])"
   ]
  },
  {
   "cell_type": "code",
   "execution_count": 38,
   "metadata": {},
   "outputs": [
    {
     "name": "stdout",
     "output_type": "stream",
     "text": [
      "number of sentences in profile dataset:  48561\n",
      "number of sentences in prochoice dataset:  43739\n"
     ]
    }
   ],
   "source": [
    "prol = [ txt.split(\".\") for txt in dfprolife['body'].values]\n",
    "prol = [item for sublist in prol for item in sublist]          \n",
    "print(\"number of sentences in profile dataset: \", len(prol))\n",
    "\n",
    "proc = [ txt.split(\".\") for txt in dfprochoice['body'].values]\n",
    "proc = [item for sublist in proc for item in sublist]          \n",
    "print(\"number of sentences in prochoice dataset: \", len(proc))"
   ]
  },
  {
   "cell_type": "code",
   "execution_count": 39,
   "metadata": {},
   "outputs": [
    {
     "name": "stdout",
     "output_type": "stream",
     "text": [
      "number of sentences in profile dataset:  52968\n",
      "number of sentences in prochoice dataset:  48124\n"
     ]
    }
   ],
   "source": [
    "prol = [ txt.split(\"?\") for txt in prol]\n",
    "prol = [item for sublist in prol for item in sublist]          \n",
    "print(\"number of sentences in profile dataset: \", len(prol))\n",
    "\n",
    "proc = [ txt.split(\"?\") for txt in proc]\n",
    "proc = [item for sublist in proc for item in sublist]          \n",
    "print(\"number of sentences in prochoice dataset: \", len(proc))"
   ]
  },
  {
   "cell_type": "code",
   "execution_count": 19,
   "metadata": {},
   "outputs": [
    {
     "name": "stdout",
     "output_type": "stream",
     "text": [
      "three sentences in pro-life\n"
     ]
    },
    {
     "data": {
      "text/plain": [
       "[\" Not only was their right bodily autonomy disregarded in stopping their suicide, but then they weren't even allowed to go where they wanted or do what they wanted because they might kill or hurt themselves\",\n",
       " ' Their life was prioritized above their right to do what they want with their body',\n",
       " 'The draft']"
      ]
     },
     "execution_count": 19,
     "metadata": {},
     "output_type": "execute_result"
    }
   ],
   "source": [
    "print(\"three sentences in pro-life\")\n",
    "prol[10:13]"
   ]
  },
  {
   "cell_type": "code",
   "execution_count": 40,
   "metadata": {
    "collapsed": true
   },
   "outputs": [],
   "source": [
    "import pickle\n",
    "with open('sentences2.pkl', 'wb') as f:\n",
    "    pickle.dump([prol,proc], f)\n"
   ]
  }
 ],
 "metadata": {
  "kernelspec": {
   "display_name": "Python 3",
   "language": "python",
   "name": "python3"
  },
  "language_info": {
   "codemirror_mode": {
    "name": "ipython",
    "version": 3
   },
   "file_extension": ".py",
   "mimetype": "text/x-python",
   "name": "python",
   "nbconvert_exporter": "python",
   "pygments_lexer": "ipython3",
   "version": "3.6.3"
  },
  "toc": {
   "nav_menu": {},
   "number_sections": true,
   "sideBar": true,
   "skip_h1_title": false,
   "title_cell": "Table of Contents",
   "title_sidebar": "Contents",
   "toc_cell": false,
   "toc_position": {},
   "toc_section_display": true,
   "toc_window_display": false
  },
  "varInspector": {
   "cols": {
    "lenName": 16,
    "lenType": 16,
    "lenVar": 40
   },
   "kernels_config": {
    "python": {
     "delete_cmd_postfix": "",
     "delete_cmd_prefix": "del ",
     "library": "var_list.py",
     "varRefreshCmd": "print(var_dic_list())"
    },
    "r": {
     "delete_cmd_postfix": ") ",
     "delete_cmd_prefix": "rm(",
     "library": "var_list.r",
     "varRefreshCmd": "cat(var_dic_list()) "
    }
   },
   "types_to_exclude": [
    "module",
    "function",
    "builtin_function_or_method",
    "instance",
    "_Feature"
   ],
   "window_display": false
  }
 },
 "nbformat": 4,
 "nbformat_minor": 2
}
