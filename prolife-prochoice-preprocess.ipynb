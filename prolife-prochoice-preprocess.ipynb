{
 "cells": [
  {
   "cell_type": "code",
   "execution_count": 2,
   "metadata": {
    "collapsed": true
   },
   "outputs": [],
   "source": [
    "# -*- coding: utf-8 -*-\n",
    "\"\"\"\n",
    "Created on Fri Jun 15 14:47:41 2018\n",
    "\n",
    "@author: niccolop\n",
    "\"\"\"\n",
    "import itertools\n",
    "import pandas as pd\n",
    "import numpy as np\n",
    "import matplotlib.pyplot as plt\n",
    "import nltk \n"
   ]
  },
  {
   "cell_type": "code",
   "execution_count": 4,
   "metadata": {},
   "outputs": [],
   "source": [
    "dfprolife = pd.read_pickle('data_files/abortion/results_prolife.pkl')\n",
    "dfprochoice = pd.read_pickle('data_files/abortion/results_prochoice.pkl')"
   ]
  },
  {
   "cell_type": "code",
   "execution_count": 6,
   "metadata": {},
   "outputs": [
    {
     "name": "stdout",
     "output_type": "stream",
     "text": [
      "(11524, 6)\n",
      "Index(['iscom', 'title', 'user', 'level', 'points', 'body'], dtype='object')\n"
     ]
    }
   ],
   "source": [
    "print(dfprolife.shape)\n",
    "print(dfprolife.columns)"
   ]
  },
  {
   "cell_type": "code",
   "execution_count": 16,
   "metadata": {},
   "outputs": [
    {
     "name": "stdout",
     "output_type": "stream",
     "text": [
      "number of sentences in profile dataset:  48561\n",
      "number of sentences in prochoice dataset:  43739\n"
     ]
    }
   ],
   "source": [
    "prol = [ txt.split(\".\") for txt in dfprolife['body'].values]\n",
    "prol = [item for sublist in prol for item in sublist]          \n",
    "print(\"number of sentences in profile dataset: \", len(prol))\n",
    "\n",
    "proc = [ txt.split(\".\") for txt in dfprochoice['body'].values]\n",
    "proc = [item for sublist in proc for item in sublist]          \n",
    "print(\"number of sentences in prochoice dataset: \", len(proc))"
   ]
  },
  {
   "cell_type": "code",
   "execution_count": 19,
   "metadata": {},
   "outputs": [
    {
     "name": "stdout",
     "output_type": "stream",
     "text": [
      "three sentences in pro-life\n"
     ]
    },
    {
     "data": {
      "text/plain": [
       "[\" Not only was their right bodily autonomy disregarded in stopping their suicide, but then they weren't even allowed to go where they wanted or do what they wanted because they might kill or hurt themselves\",\n",
       " ' Their life was prioritized above their right to do what they want with their body',\n",
       " 'The draft']"
      ]
     },
     "execution_count": 19,
     "metadata": {},
     "output_type": "execute_result"
    }
   ],
   "source": [
    "print(\"three sentences in pro-life\")\n",
    "prol[10:13]"
   ]
  },
  {
   "cell_type": "code",
   "execution_count": 22,
   "metadata": {},
   "outputs": [],
   "source": [
    "import pickle\n",
    "with open('senteces.pkl', 'wb') as f:\n",
    "    pickle.dump([prol,proc], f)\n"
   ]
  }
 ],
 "metadata": {
  "kernelspec": {
   "display_name": "Python 3",
   "language": "python",
   "name": "python3"
  },
  "language_info": {
   "codemirror_mode": {
    "name": "ipython",
    "version": 3
   },
   "file_extension": ".py",
   "mimetype": "text/x-python",
   "name": "python",
   "nbconvert_exporter": "python",
   "pygments_lexer": "ipython3",
   "version": "3.6.3"
  },
  "toc": {
   "nav_menu": {},
   "number_sections": true,
   "sideBar": true,
   "skip_h1_title": false,
   "title_cell": "Table of Contents",
   "title_sidebar": "Contents",
   "toc_cell": false,
   "toc_position": {},
   "toc_section_display": true,
   "toc_window_display": false
  },
  "varInspector": {
   "cols": {
    "lenName": 16,
    "lenType": 16,
    "lenVar": 40
   },
   "kernels_config": {
    "python": {
     "delete_cmd_postfix": "",
     "delete_cmd_prefix": "del ",
     "library": "var_list.py",
     "varRefreshCmd": "print(var_dic_list())"
    },
    "r": {
     "delete_cmd_postfix": ") ",
     "delete_cmd_prefix": "rm(",
     "library": "var_list.r",
     "varRefreshCmd": "cat(var_dic_list()) "
    }
   },
   "types_to_exclude": [
    "module",
    "function",
    "builtin_function_or_method",
    "instance",
    "_Feature"
   ],
   "window_display": false
  }
 },
 "nbformat": 4,
 "nbformat_minor": 2
}
