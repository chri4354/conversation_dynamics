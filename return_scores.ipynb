{
 "cells": [
  {
   "cell_type": "code",
   "execution_count": 62,
   "metadata": {
    "collapsed": true
   },
   "outputs": [],
   "source": [
    "import pandas as pd\n",
    "import numpy as np\n",
    "import matplotlib.pyplot as plt\n",
    "%matplotlib inline\n",
    "import html.parser\n",
    "h = html.parser.HTMLParser()"
   ]
  },
  {
   "cell_type": "code",
   "execution_count": 2,
   "metadata": {
    "collapsed": true
   },
   "outputs": [],
   "source": [
    "for k in range(1,11):\n",
    "    df = pd.read_csv('target_conversations/output/cmv1_chain{}.tsv'.format(k))\n",
    "    break"
   ]
  },
  {
   "cell_type": "code",
   "execution_count": 43,
   "metadata": {},
   "outputs": [
    {
     "name": "stderr",
     "output_type": "stream",
     "text": [
      "/Users/yuki/anaconda2/envs/py36/lib/python3.6/site-packages/h5py/__init__.py:34: FutureWarning: Conversion of the second argument of issubdtype from `float` to `np.floating` is deprecated. In future, it will be treated as `np.float64 == np.dtype(float).type`.\n",
      "  from ._conv import register_converters as _register_converters\n",
      "Using TensorFlow backend.\n"
     ]
    }
   ],
   "source": [
    "from keras.preprocessing import sequence\n",
    "from keras.models import Sequential,load_model\n",
    "from keras.layers import Dense, Dropout, Embedding, LSTM,GRU, Bidirectional,CuDNNLSTM\n",
    "\n",
    "model = load_model('data_files/abortion/bilstm.h5')\n",
    "import pickle\n",
    "# loading\n",
    "with open('data_files/abortion/tokenizer.pickle', 'rb') as handle:\n",
    "    tokenizer = pickle.load(handle)\n",
    "maxlen = 100"
   ]
  },
  {
   "cell_type": "code",
   "execution_count": 57,
   "metadata": {
    "collapsed": true
   },
   "outputs": [
    {
     "data": {
      "text/plain": [
       "[\"Firstly, your position is a pro-choice position, it's just a radicalized sort of pro-choice position\",\n",
       " ' For example, atheists who happen to be extreme (e',\n",
       " 'g',\n",
       " \" anti-theists) don't stop being atheists\",\n",
       " \"But I don't consider that to be very important\",\n",
       " ' More important is this: the views that you have given thus far could all be given in support of letting unwanted babies die',\n",
       " ' Do you also hold this view',\n",
       " '; Abortions help society',\n",
       " '',\n",
       " '',\n",
       " '',\n",
       " 'There are many reasons that we should try to minimize the number of unwanted babies',\n",
       " 'Everything here also applies to unwanted babies who are already born',\n",
       " '; View: A fetus is essentially a form of parasite, and women deserve the ability to remove such a parasite from their bodies',\n",
       " 'I assume this is a sort of a bodily autonomy argument',\n",
       " \" It seems like you're saying something like: women have a right to do what they want with their own bodies\",\n",
       " ' This gives them the right to remove parasites that are attached to their body',\n",
       " ' Therefore, since fetuses are parasites, women have the right to remove fetuses',\n",
       " 'A similar bodily autonomy argument can be given to support having the right to let babies die',\n",
       " ' You could say something like: all people have a right to do what they want with their own bodies',\n",
       " ' This gives them the right to refuse to care for others',\n",
       " ' Therefore, people have the right to refuse to care for fetuses (thus letting them die)',\n",
       " '; View: Abortions should be allowed up until birth, after which they should no longer be allowed',\n",
       " \"So what you're saying is *even if* the fetus could theoretically survive if the woman went through special surgical procedures, no woman should be forced to go through with this procedure\",\n",
       " ' Instead, women should retain their right to an abortion, even if the baby could be saved (because the woman has a right to bodily autonomy)',\n",
       " 'A similar case can be made for letting babies die',\n",
       " ' *Even if* a particular baby could theoretically survive if a particular individual went through a special procedure (i',\n",
       " 'e',\n",
       " ' by giving the baby to authorities), no individual should be forced to go through with this procedure',\n",
       " ' Instead, everyone should retain their right to let babies die, even if the baby could be saved (because people have a right to bodily autonomy)',\n",
       " ' In conclusion, everyone should have the right to let babies die, even if the only thing you need to do is give the baby to the authorities',\n",
       " ' Further, we actually *should* let all unwanted babies die, because it would be good for society',\n",
       " ' Do you believe this',\n",
       " '']"
      ]
     },
     "execution_count": 57,
     "metadata": {},
     "output_type": "execute_result"
    }
   ],
   "source": [
    "in_sentences"
   ]
  },
  {
   "cell_type": "code",
   "execution_count": 71,
   "metadata": {},
   "outputs": [
    {
     "name": "stderr",
     "output_type": "stream",
     "text": [
      "/Users/yuki/anaconda2/envs/py36/lib/python3.6/site-packages/ipykernel_launcher.py:4: DeprecationWarning: The unescape method is deprecated and will be removed in 3.5, use html.unescape() instead.\n",
      "  after removing the cwd from sys.path.\n",
      "/Users/yuki/anaconda2/envs/py36/lib/python3.6/site-packages/numpy/core/fromnumeric.py:2957: RuntimeWarning: Mean of empty slice.\n",
      "  out=out, **kwargs)\n",
      "/Users/yuki/anaconda2/envs/py36/lib/python3.6/site-packages/numpy/core/_methods.py:80: RuntimeWarning: invalid value encountered in double_scalars\n",
      "  ret = ret.dtype.type(ret / rcount)\n"
     ]
    }
   ],
   "source": [
    "medians = []\n",
    "for g in  df['body']:\n",
    "    if str(g)!='nan':\n",
    "        in_body = h.unescape(str(g))\n",
    "        in_sentences = in_body.replace(\"e.g.\",\"eg\").replace(\"?\",\".\").split('.')\n",
    "        # clean short things (\"...\" etc.)\n",
    "        in_sentences = np.array([ins for ins in in_sentences if len(ins)>20])\n",
    "        in_sentences = np.array([ins for ins in in_sentences if ins[0]!=\">\"])\n",
    "        scores = []\n",
    "        in_sentences = [str(in_sentences[k:k+1][0])+str(in_sentences[k+1:k+2])\n",
    "                        for k in range(len(in_sentences))]\n",
    "\n",
    "        for ins_words in in_sentences:\n",
    "            ins = tokenizer.texts_to_sequences([ins_words])\n",
    "            ins = np.array(sequence.pad_sequences(ins, maxlen=maxlen))\n",
    "            y = model.predict(ins)[0][0]\n",
    "#             if y<0.3:\n",
    "#                 print(y,ins_words)\n",
    "            scores.append(y)\n",
    "    medians.append(np.median(scores))"
   ]
  },
  {
   "cell_type": "code",
   "execution_count": 73,
   "metadata": {},
   "outputs": [],
   "source": [
    "df['median_scores'] = medians"
   ]
  },
  {
   "cell_type": "code",
   "execution_count": 70,
   "metadata": {},
   "outputs": [
    {
     "name": "stdout",
     "output_type": "stream",
     "text": [
      "0.7197044\n"
     ]
    },
    {
     "data": {
      "image/png": "[encoded data removed]",
      "text/plain": [
       "<matplotlib.figure.Figure at 0x1354879e8>"
      ]
     },
     "metadata": {},
     "output_type": "display_data"
    }
   ],
   "source": [
    "plt.plot(scores)\n",
    "print(np.median(scores))"
   ]
  },
  {
   "cell_type": "code",
   "execution_count": 42,
   "metadata": {},
   "outputs": [
    {
     "name": "stderr",
     "output_type": "stream",
     "text": [
      "/Users/yuki/anaconda2/envs/py36/lib/python3.6/site-packages/ipykernel_launcher.py:1: DeprecationWarning: The unescape method is deprecated and will be removed in 3.5, use html.unescape() instead.\n",
      "  \"\"\"Entry point for launching an IPython kernel.\n"
     ]
    },
    {
     "data": {
      "text/plain": [
       "'> the views that you have given thus far could all be given in support of letting unwanted babies die. Do you also hold this view?I don\\'t, and here is the key difference. A baby that has been born is no longer directly dependent on its mothers nutrients for survival. They could get their nutrients from anywhere. Once the baby is born, giving it up for adoption is a valid option. To tie this in with my views specifically, imagine that tomorrow some technology was invented that allowed people to get fetuses out of themselves, put them in some sort of artificial womb, and let them continue their development there free from the mother. If/when this technology becomes available it will have a drastic effect on my views, but since it is not yet available I see abortion as the best option when you\\'ve got a fetus in you that you don\\'t want.; You could say something like: all people have a right to do what they want with their own bodies. This gives them the right to refuse to care for others. Therefore, people have the right to refuse to care for fetuses (thus letting them die).Again, adoption is a thing. We actually DO have the right to refuse to care for a baby if we don\\'t want it and it\\'s already born.So what you\\'re saying is even if the fetus could theoretically survive if the woman went through special surgical procedures, no woman should be forced to go through with this procedure. Instead, women should retain their right to an abortion, even if the baby could be saved (because the woman has a right to bodily autonomy).Yes.... almost. I would completely agree with it if you changed \\\\\\\\because the woman has a right to bodily autonomy\\\\\\\\\" to \\\\\\\\\"because aborting unwanted fetuses is generally good for everyone\\\\\\\\\".; Further, we actually should let all unwanted babies die, because it would be good for society.Honestly from a 100% pragmatic perspective that\\'s probably true. But that\\'s getting off on a tangent. Keep in mind that one of the biggest differences between a fetus and a born baby is that the born baby does not pose any threat to the mother any longer (as long as she\\'s allowed to give it up for adoption). The same cannot be said for a fetus. If we compare abortion to this hypothetical surgery that would get the baby out, it would matter a lot how risky both options are. I don\\'t know of any such procedure that would be less risky than an abortion. If there were such a procedure that would probably change my view, at least on late term abortions.\"'"
      ]
     },
     "execution_count": 42,
     "metadata": {},
     "output_type": "execute_result"
    }
   ],
   "source": [
    "h.unescape(str(df['body'][2]))"
   ]
  },
  {
   "cell_type": "code",
   "execution_count": null,
   "metadata": {
    "collapsed": true
   },
   "outputs": [],
   "source": []
  }
 ],
 "metadata": {
  "kernelspec": {
   "display_name": "Python 3",
   "language": "python",
   "name": "python3"
  },
  "language_info": {
   "codemirror_mode": {
    "name": "ipython",
    "version": 3
   },
   "file_extension": ".py",
   "mimetype": "text/x-python",
   "name": "python",
   "nbconvert_exporter": "python",
   "pygments_lexer": "ipython3",
   "version": "3.6.3"
  },
  "toc": {
   "nav_menu": {},
   "number_sections": true,
   "sideBar": true,
   "skip_h1_title": false,
   "title_cell": "Table of Contents",
   "title_sidebar": "Contents",
   "toc_cell": false,
   "toc_position": {},
   "toc_section_display": true,
   "toc_window_display": false
  },
  "varInspector": {
   "cols": {
    "lenName": 16,
    "lenType": 16,
    "lenVar": 40
   },
   "kernels_config": {
    "python": {
     "delete_cmd_postfix": "",
     "delete_cmd_prefix": "del ",
     "library": "var_list.py",
     "varRefreshCmd": "print(var_dic_list())"
    },
    "r": {
     "delete_cmd_postfix": ") ",
     "delete_cmd_prefix": "rm(",
     "library": "var_list.r",
     "varRefreshCmd": "cat(var_dic_list()) "
    }
   },
   "types_to_exclude": [
    "module",
    "function",
    "builtin_function_or_method",
    "instance",
    "_Feature"
   ],
   "window_display": false
  }
 },
 "nbformat": 4,
 "nbformat_minor": 2
}
